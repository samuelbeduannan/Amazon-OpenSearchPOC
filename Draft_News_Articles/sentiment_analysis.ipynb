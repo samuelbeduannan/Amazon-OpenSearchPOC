{
 "cells": [
  {
   "cell_type": "markdown",
   "metadata": {},
   "source": [
    "# Sentiment Analysis\r\n",
    "\r\n",
    "This program uses _Elastic Search_ as the Backend and _Streamlit App_ as Frontend to perform Sentiment Analysis around various keywords in news articles"
   ]
  },
  {
   "cell_type": "code",
   "execution_count": 35,
   "metadata": {},
   "outputs": [],
   "source": [
    "from elasticsearch import Elasticsearch\r\n",
    "import pandas as pd\r\n"
   ]
  },
  {
   "cell_type": "code",
   "execution_count": 36,
   "metadata": {},
   "outputs": [
    {
     "data": {
      "text/plain": [
       "{'acknowledged': True}"
      ]
     },
     "execution_count": 36,
     "metadata": {},
     "output_type": "execute_result"
    }
   ],
   "source": [
    "es = Elasticsearch(HOST = \"http://localhost\", PORT=9200)\r\n",
    "# es = Elasticsearch()"
   ]
  },
  {
   "cell_type": "code",
   "execution_count": 37,
   "metadata": {},
   "outputs": [
    {
     "data": {
      "text/plain": [
       "{'acknowledged': True, 'shards_acknowledged': True, 'index': 'news_articles'}"
      ]
     },
     "execution_count": 37,
     "metadata": {},
     "output_type": "execute_result"
    }
   ],
   "source": [
    "# Creating Index or Table\r\n",
    "\r\n",
    "es.indices.create(index=\"news_articles\")"
   ]
  },
  {
   "cell_type": "code",
   "execution_count": 131,
   "metadata": {},
   "outputs": [
    {
     "data": {
      "text/plain": [
       "False"
      ]
     },
     "execution_count": 131,
     "metadata": {},
     "output_type": "execute_result"
    }
   ],
   "source": [
    "# Checking if the table previously created exists\r\n",
    "\r\n",
    "es.indices.exists(index=\"news_articles\")"
   ]
  },
  {
   "cell_type": "code",
   "execution_count": 130,
   "metadata": {},
   "outputs": [
    {
     "data": {
      "text/plain": [
       "{'acknowledged': True}"
      ]
     },
     "execution_count": 130,
     "metadata": {},
     "output_type": "execute_result"
    }
   ],
   "source": [
    "# Delete index\r\n",
    "\r\n",
    "es.indices.delete(index=\"news_articles\")"
   ]
  },
  {
   "cell_type": "code",
   "execution_count": 132,
   "metadata": {},
   "outputs": [
    {
     "name": "stdout",
     "output_type": "stream",
     "text": [
      "              Author           Publisher Publishing Date  \\\n",
      "0                                             11/28/2017   \n",
      "1                                             11/28/2017   \n",
      "2  Amanda Stephenson  The Canadian Press      11/28/2017   \n",
      "3          Bob Weber  The Canadian Press      11/28/2017   \n",
      "4  Amanda Stephenson  The Canadian Press      11/28/2017   \n",
      "\n",
      "                                                Text  \n",
      "0  COVID-19: Is mandatory vaccination for teacher...  \n",
      "1  Canada\\n\\nThe Chinese government insists there...  \n",
      "2  \\nCanadian pipeline giant Enbridge Inc. is inc...  \n",
      "3   \\n\\nAlberta’s Canadian Energy Centre appears ...  \n",
      "4   \\n\\nImperial Oil Ltd. is planning to build a ...  \n"
     ]
    },
    {
     "name": "stderr",
     "output_type": "stream",
     "text": [
      "C:\\Users\\sam_bedu-annan\\AppData\\Roaming\\Python\\Python38\\site-packages\\elasticsearch\\connection\\base.py:209: ElasticsearchWarning: [types removal] Specifying types in document index requests is deprecated, use the typeless endpoints instead (/{index}/_doc/{id}, /{index}/_doc, or /{index}/_create/{id}).\n",
      "  warnings.warn(message, category=ElasticsearchWarning)\n"
     ]
    }
   ],
   "source": [
    "news_articles = pd.read_csv(r'News_Articles\\\\News.csv')\r\n",
    "\r\n",
    "news_articles = news_articles.fillna('')\r\n",
    "\r\n",
    "print(news_articles.head())\r\n",
    "\r\n",
    "# Storing articles in ElasticSearch Database\r\n",
    "for i in range(0,len(news_articles['Author'])):\r\n",
    "    doc_1 = {'author':news_articles['Author'][i], 'publisher':news_articles['Publisher'][i], 'publishing_date':news_articles['Publishing Date'][i], 'text':news_articles['Text'][i]}\r\n",
    "    es.index(index=\"news_articles\", doc_type=\"Nan\", id=i, document=doc_1)\r\n"
   ]
  },
  {
   "cell_type": "code",
   "execution_count": 133,
   "metadata": {},
   "outputs": [
    {
     "name": "stderr",
     "output_type": "stream",
     "text": [
      "<ipython-input-133-9b77ab84989a>:24: DeprecationWarning: The 'body' parameter is deprecated for the 'search' API and will be removed in 8.0.0. Instead use API parameters directly. See https://github.com/elastic/elasticsearch-py/issues/1698 for more information\n",
      "  res = es.search(index=\"news_articles\", body=body)\n"
     ]
    }
   ],
   "source": [
    "# Creating query\r\n",
    "\r\n",
    "# from: index to start searching in the table\r\n",
    "# size: the number of search results to display\r\n",
    "# query: define the type of query to use\r\n",
    "import json\r\n",
    "\r\n",
    "search_value = input(\"Enter value to search here: \")\r\n",
    "\r\n",
    "results_text_list = []\r\n",
    "results_author_list = []\r\n",
    "results_publishing_date_list = []\r\n",
    "results_publisher_list = []\r\n",
    "\r\n",
    "body = {\r\n",
    "    \"from\":0,\r\n",
    "    \"size\":40,\r\n",
    "    \"query\":{\r\n",
    "        \"match\":{\r\n",
    "            \"text\":search_value\r\n",
    "        }\r\n",
    "    }\r\n",
    "} \r\n",
    "res = es.search(index=\"news_articles\", body=body)\r\n",
    "for i in range(0, 40):\r\n",
    "    results_text_list.append(json.loads(json.dumps(res))['hits']['hits'][i][\"_source\"][\"text\"])\r\n",
    "    results_author_list.append(json.loads(json.dumps(res))['hits']['hits'][i][\"_source\"][\"author\"])\r\n",
    "    results_publishing_date_list.append(json.loads(json.dumps(res))['hits']['hits'][i][\"_source\"][\"publishing_date\"])\r\n",
    "    results_publisher_list.append(json.loads(json.dumps(res))['hits']['hits'][i][\"_source\"][\"publisher\"])\r\n",
    "# print(results_text_list)\r\n",
    "\r\n",
    "#print(len(res))\r\n",
    "#print(res['_score'])\r\n"
   ]
  },
  {
   "cell_type": "code",
   "execution_count": 148,
   "metadata": {},
   "outputs": [],
   "source": [
    "# print(\"Article: \",results_text_list[39])\r\n",
    "# print(\"Author name: \",results_author_list[39])\r\n",
    "# print(\"Publishing Date: \",results_publishing_date_list[39])\r\n",
    "# print(\"Publisher: \", results_publisher_list[39])"
   ]
  },
  {
   "cell_type": "code",
   "execution_count": 149,
   "metadata": {},
   "outputs": [],
   "source": [
    "import streamlit as st\r\n",
    "import requests\r\n",
    "\r\n",
    "def main():\r\n",
    "    menu = [\"Home\", \"About\"]\r\n",
    "    choice = st.sidebar.selectbox(\"Menu\", menu)\r\n",
    "\r\n",
    "    st.title(\"Search News Articles\")\r\n",
    "\r\n",
    "    if choice == \"Home\":\r\n",
    "        st.subheader(\"Home\")\r\n",
    "    else:\r\n",
    "        st.subheader(\"About\")\r\n",
    "\r\n",
    "if __name__ == '__main__':\r\n",
    "    main()"
   ]
  }
 ],
 "metadata": {
  "interpreter": {
   "hash": "25ad2988840f8cfc8450adba076c0e193992713c23bff368a358779ba95b4c7a"
  },
  "kernelspec": {
   "display_name": "Python 3.8.8 64-bit ('base': conda)",
   "name": "python3"
  },
  "language_info": {
   "codemirror_mode": {
    "name": "ipython",
    "version": 3
   },
   "file_extension": ".py",
   "mimetype": "text/x-python",
   "name": "python",
   "nbconvert_exporter": "python",
   "pygments_lexer": "ipython3",
   "version": "3.8.8"
  },
  "orig_nbformat": 4
 },
 "nbformat": 4,
 "nbformat_minor": 2
}